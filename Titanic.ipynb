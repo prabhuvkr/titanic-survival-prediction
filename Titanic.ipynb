{
 "cells": [
  {
   "cell_type": "markdown",
   "metadata": {},
   "source": [
    "## **Titanic Survival Prediction**\n",
    "---\n",
    "**Author:** Prabhu Venkatesh Konda Radhakrishnan\n"
   ]
  },
  {
   "cell_type": "code",
   "execution_count": 1,
   "metadata": {},
   "outputs": [],
   "source": [
    "import statsmodels.api as sm\n",
    "import statsmodels.formula.api as smf\n",
    "\n",
    "import seaborn as sns\n",
    "\n",
    "import matplotlib.pyplot as plt\n",
    "\n",
    "import pandas as pd\n",
    "import numpy as np\n",
    "import math\n",
    "\n",
    "from matplotlib import pyplot\n",
    "from matplotlib.colors import LinearSegmentedColormap\n",
    "import matplotlib.cm as cm\n",
    "\n",
    "from sklearn.model_selection import train_test_split, GridSearchCV, StratifiedKFold\n",
    "from sklearn.feature_selection import VarianceThreshold\n",
    "from sklearn.preprocessing import OneHotEncoder\n",
    "from sklearn.impute import SimpleImputer\n",
    "from sklearn.tree import DecisionTreeClassifier\n",
    "from sklearn.ensemble import RandomForestClassifier, AdaBoostClassifier\n",
    "from sklearn.svm import SVC\n",
    "from xgboost import XGBClassifier\n",
    "from sklearn.metrics import balanced_accuracy_score, roc_auc_score, roc_curve, plot_roc_curve, confusion_matrix, plot_confusion_matrix\n",
    "from sklearn import tree\n",
    "\n",
    "from IPython.display import Image, SVG\n",
    "from graphviz import Source"
   ]
  },
  {
   "cell_type": "markdown",
   "metadata": {},
   "source": [
    "### Load Data"
   ]
  },
  {
   "cell_type": "code",
   "execution_count": 2,
   "metadata": {},
   "outputs": [
    {
     "name": "stdout",
     "output_type": "stream",
     "text": [
      "=============== ===============\n",
      "TitanicSurvival R Documentation\n",
      "=============== ===============\n",
      "\n",
      "Survival of Passengers on the Titanic\n",
      "-------------------------------------\n",
      "\n",
      "Description\n",
      "~~~~~~~~~~~\n",
      "\n",
      "Information on the survival status, sex, age, and passenger class of\n",
      "1309 passengers in the Titanic disaster of 1912.\n",
      "\n",
      "Usage\n",
      "~~~~~\n",
      "\n",
      "::\n",
      "\n",
      "   TitanicSurvival\n",
      "\n",
      "Format\n",
      "~~~~~~\n",
      "\n",
      "A data frame with 1309 observations on the following 4 variables.\n",
      "\n",
      "``survived``\n",
      "   ``no`` or ``yes``.\n",
      "\n",
      "``sex``\n",
      "   ``female`` or ``male``\n",
      "\n",
      "``age``\n",
      "   in years (and for some children, fractions of a year); age is missing\n",
      "   for 263 of the passengers.\n",
      "\n",
      "``passengerClass``\n",
      "   ``1st``, ``2nd``, or ``3rd`` class.\n",
      "\n",
      "Details\n",
      "~~~~~~~\n",
      "\n",
      "This is part of a larger data set compiled by Thomas Cason. Many\n",
      "additional details are given in the sources cited below.\n",
      "\n",
      "Source\n",
      "~~~~~~\n",
      "\n",
      "Data set ``titanic3`` from\n",
      "http://biostat.mc.vanderbilt.edu/twiki/bin/view/Main/DataSets.\n",
      "\n",
      "References\n",
      "~~~~~~~~~~\n",
      "\n",
      "http://www.encyclopedia-titanica.org/\n",
      "\n",
      "F. E. Harrell, Jr. (2001) *Regression Modeling Strategies* New York:\n",
      "Springer.\n",
      "\n",
      "Examples\n",
      "~~~~~~~~\n",
      "\n",
      "::\n",
      "\n",
      "   summary(TitanicSurvival)\n",
      "\n"
     ]
    }
   ],
   "source": [
    "ImportTitanicSurvival = sm.datasets.get_rdataset('TitanicSurvival', 'carData', cache = True)\n",
    "\n",
    "print(ImportTitanicSurvival.__doc__)"
   ]
  },
  {
   "cell_type": "code",
   "execution_count": 3,
   "metadata": {},
   "outputs": [
    {
     "data": {
      "text/plain": [
       "pandas.core.frame.DataFrame"
      ]
     },
     "execution_count": 3,
     "metadata": {},
     "output_type": "execute_result"
    }
   ],
   "source": [
    "TitanicSurvival = ImportTitanicSurvival.data # place the data in bespoke variable\n",
    "\n",
    "type(TitanicSurvival)"
   ]
  },
  {
   "cell_type": "code",
   "execution_count": 4,
   "metadata": {},
   "outputs": [
    {
     "data": {
      "text/plain": [
       "survived           object\n",
       "sex                object\n",
       "age               float64\n",
       "passengerClass     object\n",
       "dtype: object"
      ]
     },
     "execution_count": 4,
     "metadata": {},
     "output_type": "execute_result"
    }
   ],
   "source": [
    "TitanicSurvival.dtypes"
   ]
  },
  {
   "cell_type": "code",
   "execution_count": 5,
   "metadata": {},
   "outputs": [
    {
     "data": {
      "text/html": [
       "<div>\n",
       "<style scoped>\n",
       "    .dataframe tbody tr th:only-of-type {\n",
       "        vertical-align: middle;\n",
       "    }\n",
       "\n",
       "    .dataframe tbody tr th {\n",
       "        vertical-align: top;\n",
       "    }\n",
       "\n",
       "    .dataframe thead th {\n",
       "        text-align: right;\n",
       "    }\n",
       "</style>\n",
       "<table border=\"1\" class=\"dataframe\">\n",
       "  <thead>\n",
       "    <tr style=\"text-align: right;\">\n",
       "      <th></th>\n",
       "      <th>survived</th>\n",
       "      <th>sex</th>\n",
       "      <th>age</th>\n",
       "      <th>passengerClass</th>\n",
       "    </tr>\n",
       "  </thead>\n",
       "  <tbody>\n",
       "    <tr>\n",
       "      <th>Allen, Miss. Elisabeth Walton</th>\n",
       "      <td>yes</td>\n",
       "      <td>female</td>\n",
       "      <td>29.0000</td>\n",
       "      <td>1st</td>\n",
       "    </tr>\n",
       "    <tr>\n",
       "      <th>Allison, Master. Hudson Trevor</th>\n",
       "      <td>yes</td>\n",
       "      <td>male</td>\n",
       "      <td>0.9167</td>\n",
       "      <td>1st</td>\n",
       "    </tr>\n",
       "    <tr>\n",
       "      <th>Allison, Miss. Helen Loraine</th>\n",
       "      <td>no</td>\n",
       "      <td>female</td>\n",
       "      <td>2.0000</td>\n",
       "      <td>1st</td>\n",
       "    </tr>\n",
       "    <tr>\n",
       "      <th>Allison, Mr. Hudson Joshua Crei</th>\n",
       "      <td>no</td>\n",
       "      <td>male</td>\n",
       "      <td>30.0000</td>\n",
       "      <td>1st</td>\n",
       "    </tr>\n",
       "    <tr>\n",
       "      <th>Allison, Mrs. Hudson J C (Bessi</th>\n",
       "      <td>no</td>\n",
       "      <td>female</td>\n",
       "      <td>25.0000</td>\n",
       "      <td>1st</td>\n",
       "    </tr>\n",
       "  </tbody>\n",
       "</table>\n",
       "</div>"
      ],
      "text/plain": [
       "                                survived     sex      age passengerClass\n",
       "Allen, Miss. Elisabeth Walton        yes  female  29.0000            1st\n",
       "Allison, Master. Hudson Trevor       yes    male   0.9167            1st\n",
       "Allison, Miss. Helen Loraine          no  female   2.0000            1st\n",
       "Allison, Mr. Hudson Joshua Crei       no    male  30.0000            1st\n",
       "Allison, Mrs. Hudson J C (Bessi       no  female  25.0000            1st"
      ]
     },
     "execution_count": 5,
     "metadata": {},
     "output_type": "execute_result"
    }
   ],
   "source": [
    "TitanicSurvival.head()"
   ]
  },
  {
   "cell_type": "markdown",
   "metadata": {},
   "source": [
    "### Descriptive Analysis"
   ]
  },
  {
   "cell_type": "code",
   "execution_count": 6,
   "metadata": {},
   "outputs": [],
   "source": [
    "plotDat = (TitanicSurvival.\n",
    "           assign(roundedAge = round(TitanicSurvival.age, -1)).\n",
    "           groupby(['passengerClass', 'roundedAge', 'sex']).\n",
    "           apply(lambda x: len(x.survived[x.survived == \"yes\"])/len(x.survived)).\n",
    "           reset_index().\n",
    "           rename(columns = {0: 'proportionSurvived'})\n",
    "          )"
   ]
  },
  {
   "cell_type": "code",
   "execution_count": 7,
   "metadata": {},
   "outputs": [
    {
     "data": {
      "text/html": [
       "<div>\n",
       "<style scoped>\n",
       "    .dataframe tbody tr th:only-of-type {\n",
       "        vertical-align: middle;\n",
       "    }\n",
       "\n",
       "    .dataframe tbody tr th {\n",
       "        vertical-align: top;\n",
       "    }\n",
       "\n",
       "    .dataframe thead th {\n",
       "        text-align: right;\n",
       "    }\n",
       "</style>\n",
       "<table border=\"1\" class=\"dataframe\">\n",
       "  <thead>\n",
       "    <tr style=\"text-align: right;\">\n",
       "      <th></th>\n",
       "      <th>passengerClass</th>\n",
       "      <th>roundedAge</th>\n",
       "      <th>sex</th>\n",
       "      <th>proportionSurvived</th>\n",
       "    </tr>\n",
       "  </thead>\n",
       "  <tbody>\n",
       "    <tr>\n",
       "      <th>7</th>\n",
       "      <td>1st</td>\n",
       "      <td>30.0</td>\n",
       "      <td>male</td>\n",
       "      <td>0.407407</td>\n",
       "    </tr>\n",
       "    <tr>\n",
       "      <th>19</th>\n",
       "      <td>2nd</td>\n",
       "      <td>10.0</td>\n",
       "      <td>female</td>\n",
       "      <td>1.000000</td>\n",
       "    </tr>\n",
       "    <tr>\n",
       "      <th>36</th>\n",
       "      <td>3rd</td>\n",
       "      <td>20.0</td>\n",
       "      <td>female</td>\n",
       "      <td>0.548387</td>\n",
       "    </tr>\n",
       "    <tr>\n",
       "      <th>41</th>\n",
       "      <td>3rd</td>\n",
       "      <td>40.0</td>\n",
       "      <td>male</td>\n",
       "      <td>0.100000</td>\n",
       "    </tr>\n",
       "    <tr>\n",
       "      <th>1</th>\n",
       "      <td>1st</td>\n",
       "      <td>0.0</td>\n",
       "      <td>male</td>\n",
       "      <td>1.000000</td>\n",
       "    </tr>\n",
       "  </tbody>\n",
       "</table>\n",
       "</div>"
      ],
      "text/plain": [
       "   passengerClass  roundedAge     sex  proportionSurvived\n",
       "7             1st        30.0    male            0.407407\n",
       "19            2nd        10.0  female            1.000000\n",
       "36            3rd        20.0  female            0.548387\n",
       "41            3rd        40.0    male            0.100000\n",
       "1             1st         0.0    male            1.000000"
      ]
     },
     "execution_count": 7,
     "metadata": {},
     "output_type": "execute_result"
    }
   ],
   "source": [
    "plotDat.sample(5)"
   ]
  },
  {
   "cell_type": "code",
   "execution_count": 8,
   "metadata": {},
   "outputs": [
    {
     "data": {
      "text/plain": [
       "<matplotlib.axes._subplots.AxesSubplot at 0x200ce92a520>"
      ]
     },
     "execution_count": 8,
     "metadata": {},
     "output_type": "execute_result"
    },
    {
     "data": {
      "image/png": "[encoded data removed]",
      "text/plain": [
       "<Figure size 504x432 with 1 Axes>"
      ]
     },
     "metadata": {},
     "output_type": "display_data"
    }
   ],
   "source": [
    "sns.set(rc = {'figure.figsize': (7, 6)},\n",
    "        font_scale = 1.25) # increase text size on plots (e.g., axis labels)\n",
    "sns.set_style('whitegrid')\n",
    "\n",
    "sns.scatterplot(\n",
    "    x = 'roundedAge',\n",
    "    y = 'proportionSurvived',\n",
    "    s = 150, # adjust point size\n",
    "    data = plotDat)"
   ]
  },
  {
   "cell_type": "code",
   "execution_count": 9,
   "metadata": {},
   "outputs": [
    {
     "data": {
      "text/plain": [
       "<matplotlib.legend.Legend at 0x200ce9b3460>"
      ]
     },
     "execution_count": 9,
     "metadata": {},
     "output_type": "execute_result"
    },
    {
     "data": {
      "image/png": "[encoded data removed]",
      "text/plain": [
       "<Figure size 504x432 with 1 Axes>"
      ]
     },
     "metadata": {},
     "output_type": "display_data"
    }
   ],
   "source": [
    "p = sns.scatterplot(\n",
    "    x = 'roundedAge',\n",
    "    y = 'proportionSurvived',\n",
    "    s = 150,\n",
    "    style = 'sex',\n",
    "    hue = 'passengerClass',\n",
    "    data = plotDat)\n",
    "\n",
    "p.legend(loc = 'center right', bbox_to_anchor = (1.5, 0.5), ncol = 1) # move legend outside of plot"
   ]
  },
  {
   "cell_type": "code",
   "execution_count": 10,
   "metadata": {},
   "outputs": [
    {
     "data": {
      "text/plain": [
       "<seaborn.axisgrid.FacetGrid at 0x200ceeca7c0>"
      ]
     },
     "execution_count": 10,
     "metadata": {},
     "output_type": "execute_result"
    },
    {
     "data": {
      "image/png": "[encoded data removed]",
      "text/plain": [
       "<Figure size 1171x360 with 3 Axes>"
      ]
     },
     "metadata": {},
     "output_type": "display_data"
    }
   ],
   "source": [
    "sns.relplot(\n",
    "    x = 'roundedAge',\n",
    "    y = 'proportionSurvived',\n",
    "    s = 150,\n",
    "    style = 'sex',\n",
    "    hue = 'sex',\n",
    "    col = 'passengerClass',\n",
    "    kind = 'scatter',\n",
    "    data = plotDat)"
   ]
  },
  {
   "cell_type": "code",
   "execution_count": 11,
   "metadata": {},
   "outputs": [
    {
     "data": {
      "text/plain": [
       "<seaborn.axisgrid.FacetGrid at 0x200cf116eb0>"
      ]
     },
     "execution_count": 11,
     "metadata": {},
     "output_type": "execute_result"
    },
    {
     "data": {
      "image/png": "[encoded data removed]",
      "text/plain": [
       "<Figure size 1171x720 with 6 Axes>"
      ]
     },
     "metadata": {},
     "output_type": "display_data"
    }
   ],
   "source": [
    "sns.relplot(\n",
    "    x = 'roundedAge',\n",
    "    y = 'proportionSurvived',\n",
    "    s = 150,\n",
    "    style = 'sex',\n",
    "    hue = 'sex',\n",
    "    col = 'passengerClass',\n",
    "    row = 'sex',\n",
    "    kind = 'scatter',\n",
    "    data = plotDat)"
   ]
  },
  {
   "cell_type": "markdown",
   "metadata": {},
   "source": [
    "## Logistic Regression"
   ]
  },
  {
   "cell_type": "code",
   "execution_count": 12,
   "metadata": {},
   "outputs": [
    {
     "data": {
      "text/plain": [
       "1309"
      ]
     },
     "execution_count": 12,
     "metadata": {},
     "output_type": "execute_result"
    }
   ],
   "source": [
    "len(TitanicSurvival)"
   ]
  },
  {
   "cell_type": "code",
   "execution_count": 13,
   "metadata": {},
   "outputs": [
    {
     "data": {
      "text/plain": [
       "1046"
      ]
     },
     "execution_count": 13,
     "metadata": {},
     "output_type": "execute_result"
    }
   ],
   "source": [
    "len(TitanicSurvival.dropna())"
   ]
  },
  {
   "cell_type": "code",
   "execution_count": 14,
   "metadata": {},
   "outputs": [
    {
     "data": {
      "text/plain": [
       "0.201"
      ]
     },
     "execution_count": 14,
     "metadata": {},
     "output_type": "execute_result"
    }
   ],
   "source": [
    "round(1 - len(TitanicSurvival.dropna())/len(TitanicSurvival), 3)"
   ]
  },
  {
   "cell_type": "code",
   "execution_count": 15,
   "metadata": {},
   "outputs": [
    {
     "data": {
      "text/plain": [
       "survived          0.000\n",
       "sex               0.000\n",
       "age               0.201\n",
       "passengerClass    0.000\n",
       "dtype: float64"
      ]
     },
     "execution_count": 15,
     "metadata": {},
     "output_type": "execute_result"
    }
   ],
   "source": [
    "round(TitanicSurvival.isna().sum()/len(TitanicSurvival), 3)"
   ]
  },
  {
   "cell_type": "code",
   "execution_count": 16,
   "metadata": {},
   "outputs": [],
   "source": [
    "TitanicSurvivalNoNaNs = TitanicSurvival.dropna()"
   ]
  },
  {
   "cell_type": "code",
   "execution_count": 17,
   "metadata": {},
   "outputs": [
    {
     "data": {
      "text/plain": [
       "survived\n",
       "no     619\n",
       "yes    427\n",
       "dtype: int64"
      ]
     },
     "execution_count": 17,
     "metadata": {},
     "output_type": "execute_result"
    }
   ],
   "source": [
    "TitanicSurvivalNoNaNs.groupby('survived').size()"
   ]
  },
  {
   "cell_type": "code",
   "execution_count": 18,
   "metadata": {},
   "outputs": [],
   "source": [
    "# three main effects\n",
    "mod1 = smf.glm(formula = 'survived ~ passengerClass + sex + age', data = TitanicSurvivalNoNaNs, family = sm.families.Binomial()).fit()\n",
    "\n",
    "# all two-way interactions of these three main effects\n",
    "mod2 = smf.glm(formula = 'survived ~ (passengerClass + sex + age) ** 2', data = TitanicSurvivalNoNaNs, family = sm.families.Binomial()).fit()\n",
    "\n",
    "# full three-way interaction\n",
    "mod3 = smf.glm(formula = 'survived ~ passengerClass * sex * age', data = TitanicSurvivalNoNaNs, family = sm.families.Binomial()).fit()"
   ]
  },
  {
   "cell_type": "markdown",
   "metadata": {},
   "source": [
    "compare these three models:"
   ]
  },
  {
   "cell_type": "code",
   "execution_count": 19,
   "metadata": {},
   "outputs": [
    {
     "data": {
      "text/html": [
       "<div>\n",
       "<style scoped>\n",
       "    .dataframe tbody tr th:only-of-type {\n",
       "        vertical-align: middle;\n",
       "    }\n",
       "\n",
       "    .dataframe tbody tr th {\n",
       "        vertical-align: top;\n",
       "    }\n",
       "\n",
       "    .dataframe thead th {\n",
       "        text-align: right;\n",
       "    }\n",
       "</style>\n",
       "<table border=\"1\" class=\"dataframe\">\n",
       "  <thead>\n",
       "    <tr style=\"text-align: right;\">\n",
       "      <th></th>\n",
       "      <th>models</th>\n",
       "      <th>df</th>\n",
       "      <th>AIC</th>\n",
       "      <th>deltaAIC</th>\n",
       "    </tr>\n",
       "  </thead>\n",
       "  <tbody>\n",
       "    <tr>\n",
       "      <th>1</th>\n",
       "      <td>mod2</td>\n",
       "      <td>9</td>\n",
       "      <td>937.843246</td>\n",
       "      <td>0.000000</td>\n",
       "    </tr>\n",
       "    <tr>\n",
       "      <th>2</th>\n",
       "      <td>mod3</td>\n",
       "      <td>11</td>\n",
       "      <td>939.977104</td>\n",
       "      <td>2.133857</td>\n",
       "    </tr>\n",
       "    <tr>\n",
       "      <th>0</th>\n",
       "      <td>mod1</td>\n",
       "      <td>4</td>\n",
       "      <td>992.453105</td>\n",
       "      <td>54.609859</td>\n",
       "    </tr>\n",
       "  </tbody>\n",
       "</table>\n",
       "</div>"
      ],
      "text/plain": [
       "  models  df         AIC   deltaAIC\n",
       "1   mod2   9  937.843246   0.000000\n",
       "2   mod3  11  939.977104   2.133857\n",
       "0   mod1   4  992.453105  54.609859"
      ]
     },
     "execution_count": 19,
     "metadata": {},
     "output_type": "execute_result"
    }
   ],
   "source": [
    "models = pd.DataFrame({\n",
    "    'models': ['mod1', 'mod2', 'mod3'],\n",
    "    'df': [mod1.df_model, mod2.df_model, mod3.df_model],\n",
    "    'AIC': [mod1.aic, mod2.aic, mod3.aic]\n",
    "})\n",
    "\n",
    "models['deltaAIC'] = models.AIC - min(models.AIC)\n",
    "\n",
    "models.sort_values('AIC')"
   ]
  },
  {
   "cell_type": "markdown",
   "metadata": {},
   "source": [
    "Among these three, mod2 looks the best based on AIC. term-level significance using a Wald test:"
   ]
  },
  {
   "cell_type": "code",
   "execution_count": 20,
   "metadata": {},
   "outputs": [
    {
     "data": {
      "text/plain": [
       "<class 'statsmodels.stats.contrast.WaldTestResults'>\n",
       "                         chi2        P>chi2  df constraint\n",
       "Intercept           17.717926  2.562008e-05              1\n",
       "passengerClass      39.018731  3.366590e-09              2\n",
       "sex                 11.828603  5.832774e-04              1\n",
       "passengerClass:sex  31.379302  1.534868e-07              2\n",
       "age                  0.050509  8.221805e-01              1\n",
       "passengerClass:age   9.119874  1.046272e-02              2\n",
       "sex:age              4.307519  3.794427e-02              1"
      ]
     },
     "execution_count": 20,
     "metadata": {},
     "output_type": "execute_result"
    }
   ],
   "source": [
    "mod2.wald_test_terms() # equivalent to car::Anova(mod2, type = 3, test = \"Wald\")"
   ]
  },
  {
   "cell_type": "code",
   "execution_count": 21,
   "metadata": {},
   "outputs": [
    {
     "data": {
      "text/html": [
       "<div>\n",
       "<style scoped>\n",
       "    .dataframe tbody tr th:only-of-type {\n",
       "        vertical-align: middle;\n",
       "    }\n",
       "\n",
       "    .dataframe tbody tr th {\n",
       "        vertical-align: top;\n",
       "    }\n",
       "\n",
       "    .dataframe thead th {\n",
       "        text-align: right;\n",
       "    }\n",
       "</style>\n",
       "<table border=\"1\" class=\"dataframe\">\n",
       "  <thead>\n",
       "    <tr style=\"text-align: right;\">\n",
       "      <th></th>\n",
       "      <th>statistic</th>\n",
       "      <th>pvalue</th>\n",
       "      <th>df_constraint</th>\n",
       "    </tr>\n",
       "  </thead>\n",
       "  <tbody>\n",
       "    <tr>\n",
       "      <th>Intercept</th>\n",
       "      <td>17.72</td>\n",
       "      <td>0.00</td>\n",
       "      <td>1</td>\n",
       "    </tr>\n",
       "    <tr>\n",
       "      <th>passengerClass</th>\n",
       "      <td>39.02</td>\n",
       "      <td>0.00</td>\n",
       "      <td>2</td>\n",
       "    </tr>\n",
       "    <tr>\n",
       "      <th>sex</th>\n",
       "      <td>11.83</td>\n",
       "      <td>0.00</td>\n",
       "      <td>1</td>\n",
       "    </tr>\n",
       "    <tr>\n",
       "      <th>passengerClass:sex</th>\n",
       "      <td>31.38</td>\n",
       "      <td>0.00</td>\n",
       "      <td>2</td>\n",
       "    </tr>\n",
       "    <tr>\n",
       "      <th>age</th>\n",
       "      <td>0.05</td>\n",
       "      <td>0.82</td>\n",
       "      <td>1</td>\n",
       "    </tr>\n",
       "    <tr>\n",
       "      <th>passengerClass:age</th>\n",
       "      <td>9.12</td>\n",
       "      <td>0.01</td>\n",
       "      <td>2</td>\n",
       "    </tr>\n",
       "    <tr>\n",
       "      <th>sex:age</th>\n",
       "      <td>4.31</td>\n",
       "      <td>0.04</td>\n",
       "      <td>1</td>\n",
       "    </tr>\n",
       "  </tbody>\n",
       "</table>\n",
       "</div>"
      ],
      "text/plain": [
       "                    statistic  pvalue  df_constraint\n",
       "Intercept               17.72    0.00              1\n",
       "passengerClass          39.02    0.00              2\n",
       "sex                     11.83    0.00              1\n",
       "passengerClass:sex      31.38    0.00              2\n",
       "age                      0.05    0.82              1\n",
       "passengerClass:age       9.12    0.01              2\n",
       "sex:age                  4.31    0.04              1"
      ]
     },
     "execution_count": 21,
     "metadata": {},
     "output_type": "execute_result"
    }
   ],
   "source": [
    "round(mod2.wald_test_terms().table, 2)"
   ]
  },
  {
   "cell_type": "markdown",
   "metadata": {},
   "source": [
    "Most of the of the terms are significant, but we'll be focusing on interactions to respect the *principle of marginality*"
   ]
  },
  {
   "cell_type": "code",
   "execution_count": 22,
   "metadata": {},
   "outputs": [
    {
     "data": {
      "text/html": [
       "<table class=\"simpletable\">\n",
       "<caption>Generalized Linear Model Regression Results</caption>\n",
       "<tr>\n",
       "  <th>Dep. Variable:</th>   <td>['survived[no]', 'survived[yes]']</td> <th>  No. Observations:  </th>  <td>  1046</td> \n",
       "</tr>\n",
       "<tr>\n",
       "  <th>Model:</th>                          <td>GLM</td>                <th>  Df Residuals:      </th>  <td>  1036</td> \n",
       "</tr>\n",
       "<tr>\n",
       "  <th>Model Family:</th>                <td>Binomial</td>              <th>  Df Model:          </th>  <td>     9</td> \n",
       "</tr>\n",
       "<tr>\n",
       "  <th>Link Function:</th>                 <td>logit</td>               <th>  Scale:             </th> <td>  1.0000</td>\n",
       "</tr>\n",
       "<tr>\n",
       "  <th>Method:</th>                        <td>IRLS</td>                <th>  Log-Likelihood:    </th> <td> -458.92</td>\n",
       "</tr>\n",
       "<tr>\n",
       "  <th>Date:</th>                    <td>Sun, 27 Dec 2020</td>          <th>  Deviance:          </th> <td>  917.84</td>\n",
       "</tr>\n",
       "<tr>\n",
       "  <th>Time:</th>                        <td>17:21:47</td>              <th>  Pearson chi2:      </th> <td>1.22e+03</td>\n",
       "</tr>\n",
       "<tr>\n",
       "  <th>No. Iterations:</th>                  <td>6</td>                 <th>                     </th>     <td> </td>   \n",
       "</tr>\n",
       "<tr>\n",
       "  <th>Covariance Type:</th>             <td>nonrobust</td>             <th>                     </th>     <td> </td>   \n",
       "</tr>\n",
       "</table>\n",
       "<table class=\"simpletable\">\n",
       "<tr>\n",
       "                  <td></td>                     <th>coef</th>     <th>std err</th>      <th>z</th>      <th>P>|z|</th>  <th>[0.025</th>    <th>0.975]</th>  \n",
       "</tr>\n",
       "<tr>\n",
       "  <th>Intercept</th>                         <td>   -3.3904</td> <td>    0.805</td> <td>   -4.209</td> <td> 0.000</td> <td>   -4.969</td> <td>   -1.812</td>\n",
       "</tr>\n",
       "<tr>\n",
       "  <th>passengerClass[T.2nd]</th>             <td>   -0.7647</td> <td>    0.960</td> <td>   -0.797</td> <td> 0.426</td> <td>   -2.646</td> <td>    1.117</td>\n",
       "</tr>\n",
       "<tr>\n",
       "  <th>passengerClass[T.3rd]</th>             <td>    3.2700</td> <td>    0.765</td> <td>    4.275</td> <td> 0.000</td> <td>    1.771</td> <td>    4.769</td>\n",
       "</tr>\n",
       "<tr>\n",
       "  <th>sex[T.male]</th>                       <td>    2.5922</td> <td>    0.754</td> <td>    3.439</td> <td> 0.001</td> <td>    1.115</td> <td>    4.069</td>\n",
       "</tr>\n",
       "<tr>\n",
       "  <th>passengerClass[T.2nd]:sex[T.male]</th> <td>    0.8788</td> <td>    0.690</td> <td>    1.274</td> <td> 0.203</td> <td>   -0.474</td> <td>    2.231</td>\n",
       "</tr>\n",
       "<tr>\n",
       "  <th>passengerClass[T.3rd]:sex[T.male]</th> <td>   -1.8857</td> <td>    0.585</td> <td>   -3.225</td> <td> 0.001</td> <td>   -3.032</td> <td>   -0.740</td>\n",
       "</tr>\n",
       "<tr>\n",
       "  <th>age</th>                               <td>    0.0040</td> <td>    0.018</td> <td>    0.225</td> <td> 0.822</td> <td>   -0.030</td> <td>    0.038</td>\n",
       "</tr>\n",
       "<tr>\n",
       "  <th>passengerClass[T.2nd]:age</th>         <td>    0.0605</td> <td>    0.021</td> <td>    2.826</td> <td> 0.005</td> <td>    0.019</td> <td>    0.103</td>\n",
       "</tr>\n",
       "<tr>\n",
       "  <th>passengerClass[T.3rd]:age</th>         <td>    0.0062</td> <td>    0.016</td> <td>    0.386</td> <td> 0.700</td> <td>   -0.025</td> <td>    0.038</td>\n",
       "</tr>\n",
       "<tr>\n",
       "  <th>sex[T.male]:age</th>                   <td>    0.0314</td> <td>    0.015</td> <td>    2.075</td> <td> 0.038</td> <td>    0.002</td> <td>    0.061</td>\n",
       "</tr>\n",
       "</table>"
      ],
      "text/plain": [
       "<class 'statsmodels.iolib.summary.Summary'>\n",
       "\"\"\"\n",
       "                         Generalized Linear Model Regression Results                         \n",
       "=============================================================================================\n",
       "Dep. Variable:     ['survived[no]', 'survived[yes]']   No. Observations:                 1046\n",
       "Model:                                           GLM   Df Residuals:                     1036\n",
       "Model Family:                               Binomial   Df Model:                            9\n",
       "Link Function:                                 logit   Scale:                          1.0000\n",
       "Method:                                         IRLS   Log-Likelihood:                -458.92\n",
       "Date:                               Sun, 27 Dec 2020   Deviance:                       917.84\n",
       "Time:                                       17:21:47   Pearson chi2:                 1.22e+03\n",
       "No. Iterations:                                    6                                         \n",
       "Covariance Type:                           nonrobust                                         \n",
       "=====================================================================================================\n",
       "                                        coef    std err          z      P>|z|      [0.025      0.975]\n",
       "-----------------------------------------------------------------------------------------------------\n",
       "Intercept                            -3.3904      0.805     -4.209      0.000      -4.969      -1.812\n",
       "passengerClass[T.2nd]                -0.7647      0.960     -0.797      0.426      -2.646       1.117\n",
       "passengerClass[T.3rd]                 3.2700      0.765      4.275      0.000       1.771       4.769\n",
       "sex[T.male]                           2.5922      0.754      3.439      0.001       1.115       4.069\n",
       "passengerClass[T.2nd]:sex[T.male]     0.8788      0.690      1.274      0.203      -0.474       2.231\n",
       "passengerClass[T.3rd]:sex[T.male]    -1.8857      0.585     -3.225      0.001      -3.032      -0.740\n",
       "age                                   0.0040      0.018      0.225      0.822      -0.030       0.038\n",
       "passengerClass[T.2nd]:age             0.0605      0.021      2.826      0.005       0.019       0.103\n",
       "passengerClass[T.3rd]:age             0.0062      0.016      0.386      0.700      -0.025       0.038\n",
       "sex[T.male]:age                       0.0314      0.015      2.075      0.038       0.002       0.061\n",
       "=====================================================================================================\n",
       "\"\"\""
      ]
     },
     "execution_count": 22,
     "metadata": {},
     "output_type": "execute_result"
    }
   ],
   "source": [
    "mod2.summary()"
   ]
  },
  {
   "cell_type": "markdown",
   "metadata": {},
   "source": [
    "## Supervised Machine Learning"
   ]
  },
  {
   "cell_type": "code",
   "execution_count": 23,
   "metadata": {},
   "outputs": [
    {
     "data": {
      "text/html": [
       "<div>\n",
       "<style scoped>\n",
       "    .dataframe tbody tr th:only-of-type {\n",
       "        vertical-align: middle;\n",
       "    }\n",
       "\n",
       "    .dataframe tbody tr th {\n",
       "        vertical-align: top;\n",
       "    }\n",
       "\n",
       "    .dataframe thead th {\n",
       "        text-align: right;\n",
       "    }\n",
       "</style>\n",
       "<table border=\"1\" class=\"dataframe\">\n",
       "  <thead>\n",
       "    <tr style=\"text-align: right;\">\n",
       "      <th></th>\n",
       "      <th>survived</th>\n",
       "      <th>sex</th>\n",
       "      <th>age</th>\n",
       "      <th>passengerClass</th>\n",
       "    </tr>\n",
       "  </thead>\n",
       "  <tbody>\n",
       "    <tr>\n",
       "      <th>Allen, Miss. Elisabeth Walton</th>\n",
       "      <td>yes</td>\n",
       "      <td>female</td>\n",
       "      <td>29.0000</td>\n",
       "      <td>1st</td>\n",
       "    </tr>\n",
       "    <tr>\n",
       "      <th>Allison, Master. Hudson Trevor</th>\n",
       "      <td>yes</td>\n",
       "      <td>male</td>\n",
       "      <td>0.9167</td>\n",
       "      <td>1st</td>\n",
       "    </tr>\n",
       "    <tr>\n",
       "      <th>Allison, Miss. Helen Loraine</th>\n",
       "      <td>no</td>\n",
       "      <td>female</td>\n",
       "      <td>2.0000</td>\n",
       "      <td>1st</td>\n",
       "    </tr>\n",
       "    <tr>\n",
       "      <th>Allison, Mr. Hudson Joshua Crei</th>\n",
       "      <td>no</td>\n",
       "      <td>male</td>\n",
       "      <td>30.0000</td>\n",
       "      <td>1st</td>\n",
       "    </tr>\n",
       "    <tr>\n",
       "      <th>Allison, Mrs. Hudson J C (Bessi</th>\n",
       "      <td>no</td>\n",
       "      <td>female</td>\n",
       "      <td>25.0000</td>\n",
       "      <td>1st</td>\n",
       "    </tr>\n",
       "  </tbody>\n",
       "</table>\n",
       "</div>"
      ],
      "text/plain": [
       "                                survived     sex      age passengerClass\n",
       "Allen, Miss. Elisabeth Walton        yes  female  29.0000            1st\n",
       "Allison, Master. Hudson Trevor       yes    male   0.9167            1st\n",
       "Allison, Miss. Helen Loraine          no  female   2.0000            1st\n",
       "Allison, Mr. Hudson Joshua Crei       no    male  30.0000            1st\n",
       "Allison, Mrs. Hudson J C (Bessi       no  female  25.0000            1st"
      ]
     },
     "metadata": {},
     "output_type": "display_data"
    },
    {
     "data": {
      "text/plain": [
       "(1309, 4)"
      ]
     },
     "metadata": {},
     "output_type": "display_data"
    }
   ],
   "source": [
    "sns.set(rc = {'figure.figsize': (7, 6)},\n",
    "        font_scale = 1.25) # increase text size on plots (e.g., axis labels)\n",
    "sns.set_style('whitegrid')\n",
    "\n",
    "ImportTitanicSurvival = sm.datasets.get_rdataset('TitanicSurvival', 'carData', cache = True)\n",
    "\n",
    "TitanicSurvival = ImportTitanicSurvival.data\n",
    "\n",
    "display(TitanicSurvival.head(), TitanicSurvival.shape)"
   ]
  },
  {
   "cell_type": "code",
   "execution_count": 24,
   "metadata": {},
   "outputs": [
    {
     "data": {
      "text/plain": [
       "survived\n",
       "no     809\n",
       "yes    500\n",
       "dtype: int64"
      ]
     },
     "execution_count": 24,
     "metadata": {},
     "output_type": "execute_result"
    }
   ],
   "source": [
    "TitanicSurvival.groupby('survived').size()"
   ]
  },
  {
   "cell_type": "code",
   "execution_count": 25,
   "metadata": {},
   "outputs": [
    {
     "data": {
      "text/plain": [
       "survived\n",
       "no     0.618\n",
       "yes    0.382\n",
       "dtype: float64"
      ]
     },
     "execution_count": 25,
     "metadata": {},
     "output_type": "execute_result"
    }
   ],
   "source": [
    "round(TitanicSurvival.groupby('survived').size()/len(TitanicSurvival), 3)"
   ]
  },
  {
   "cell_type": "code",
   "execution_count": 26,
   "metadata": {},
   "outputs": [],
   "source": [
    "Train, Test = train_test_split(TitanicSurvival, \n",
    "                               stratify = TitanicSurvival.survived,\n",
    "                               test_size = 0.20, \n",
    "                               random_state = 345)"
   ]
  },
  {
   "cell_type": "code",
   "execution_count": 27,
   "metadata": {},
   "outputs": [
    {
     "data": {
      "text/plain": [
       "0.8"
      ]
     },
     "metadata": {},
     "output_type": "display_data"
    },
    {
     "data": {
      "text/plain": [
       "0.2"
      ]
     },
     "metadata": {},
     "output_type": "display_data"
    }
   ],
   "source": [
    "display(round(len(Train)/len(TitanicSurvival), 3), \n",
    "        round(len(Test)/len(TitanicSurvival), 3))"
   ]
  },
  {
   "cell_type": "code",
   "execution_count": 28,
   "metadata": {},
   "outputs": [
    {
     "data": {
      "text/plain": [
       "survived\n",
       "no     647\n",
       "yes    400\n",
       "dtype: int64"
      ]
     },
     "metadata": {},
     "output_type": "display_data"
    },
    {
     "data": {
      "text/plain": [
       "survived\n",
       "no     0.618\n",
       "yes    0.382\n",
       "dtype: float64"
      ]
     },
     "execution_count": 28,
     "metadata": {},
     "output_type": "execute_result"
    }
   ],
   "source": [
    "display(Train.groupby('survived').size())\n",
    "round(Train.groupby('survived').size()/len(Train), 3)"
   ]
  },
  {
   "cell_type": "code",
   "execution_count": 29,
   "metadata": {},
   "outputs": [
    {
     "data": {
      "text/plain": [
       "survived\n",
       "no     162\n",
       "yes    100\n",
       "dtype: int64"
      ]
     },
     "metadata": {},
     "output_type": "display_data"
    },
    {
     "data": {
      "text/plain": [
       "survived\n",
       "no     0.618\n",
       "yes    0.382\n",
       "dtype: float64"
      ]
     },
     "execution_count": 29,
     "metadata": {},
     "output_type": "execute_result"
    }
   ],
   "source": [
    "display(Test.groupby('survived').size())\n",
    "round(Test.groupby('survived').size()/len(Test), 3)"
   ]
  },
  {
   "cell_type": "code",
   "execution_count": 30,
   "metadata": {},
   "outputs": [
    {
     "data": {
      "text/plain": [
       "(800, 4)"
      ]
     },
     "execution_count": 30,
     "metadata": {},
     "output_type": "execute_result"
    }
   ],
   "source": [
    "np.random.seed(345) \n",
    "\n",
    "maj_class = np.where(Train.survived == 'no')[0]\n",
    "min_class = np.where(Train.survived == 'yes')[0]\n",
    "\n",
    "resample = np.random.choice(maj_class, size = len(min_class), replace = False)\n",
    "\n",
    "TrainDS = pd.concat([Train.iloc[min_class], Train.iloc[resample]])\n",
    "\n",
    "TrainDS.shape"
   ]
  },
  {
   "cell_type": "markdown",
   "metadata": {},
   "source": [
    "Balanced training set:"
   ]
  },
  {
   "cell_type": "code",
   "execution_count": 31,
   "metadata": {},
   "outputs": [
    {
     "data": {
      "text/plain": [
       "survived\n",
       "no     400\n",
       "yes    400\n",
       "dtype: int64"
      ]
     },
     "metadata": {},
     "output_type": "display_data"
    },
    {
     "data": {
      "text/plain": [
       "survived\n",
       "no     0.5\n",
       "yes    0.5\n",
       "dtype: float64"
      ]
     },
     "execution_count": 31,
     "metadata": {},
     "output_type": "execute_result"
    }
   ],
   "source": [
    "display(TrainDS.groupby('survived').size())\n",
    "round(TrainDS.groupby('survived').size()/len(TrainDS), 3)"
   ]
  },
  {
   "cell_type": "markdown",
   "metadata": {},
   "source": [
    "Now let's check for missing values in data, which some models cannot handle:"
   ]
  },
  {
   "cell_type": "code",
   "execution_count": 32,
   "metadata": {},
   "outputs": [
    {
     "data": {
      "text/plain": [
       "0.194"
      ]
     },
     "execution_count": 32,
     "metadata": {},
     "output_type": "execute_result"
    }
   ],
   "source": [
    "round(1 - len(TrainDS.dropna())/len(TrainDS), 3)"
   ]
  },
  {
   "cell_type": "code",
   "execution_count": 33,
   "metadata": {},
   "outputs": [
    {
     "data": {
      "text/plain": [
       "survived          0.000\n",
       "sex               0.000\n",
       "age               0.194\n",
       "passengerClass    0.000\n",
       "dtype: float64"
      ]
     },
     "execution_count": 33,
     "metadata": {},
     "output_type": "execute_result"
    }
   ],
   "source": [
    "round(TrainDS.isna().sum()/len(TrainDS), 3)"
   ]
  },
  {
   "cell_type": "markdown",
   "metadata": {},
   "source": [
    "Median imputation for age:"
   ]
  },
  {
   "cell_type": "code",
   "execution_count": 34,
   "metadata": {},
   "outputs": [
    {
     "data": {
      "text/html": [
       "<div>\n",
       "<style scoped>\n",
       "    .dataframe tbody tr th:only-of-type {\n",
       "        vertical-align: middle;\n",
       "    }\n",
       "\n",
       "    .dataframe tbody tr th {\n",
       "        vertical-align: top;\n",
       "    }\n",
       "\n",
       "    .dataframe thead th {\n",
       "        text-align: right;\n",
       "    }\n",
       "</style>\n",
       "<table border=\"1\" class=\"dataframe\">\n",
       "  <thead>\n",
       "    <tr style=\"text-align: right;\">\n",
       "      <th></th>\n",
       "      <th>survived</th>\n",
       "      <th>sex</th>\n",
       "      <th>age</th>\n",
       "      <th>passengerClass</th>\n",
       "    </tr>\n",
       "  </thead>\n",
       "  <tbody>\n",
       "    <tr>\n",
       "      <th>Pickard, Mr. Berk (Berk Trembis</th>\n",
       "      <td>yes</td>\n",
       "      <td>male</td>\n",
       "      <td>32.0</td>\n",
       "      <td>3rd</td>\n",
       "    </tr>\n",
       "    <tr>\n",
       "      <th>Mamee, Mr. Hanna</th>\n",
       "      <td>yes</td>\n",
       "      <td>male</td>\n",
       "      <td>NaN</td>\n",
       "      <td>3rd</td>\n",
       "    </tr>\n",
       "    <tr>\n",
       "      <th>Hakkarainen, Mrs. Pekka Pietari</th>\n",
       "      <td>yes</td>\n",
       "      <td>female</td>\n",
       "      <td>24.0</td>\n",
       "      <td>3rd</td>\n",
       "    </tr>\n",
       "    <tr>\n",
       "      <th>Harper, Mrs. Henry Sleeper (Myn</th>\n",
       "      <td>yes</td>\n",
       "      <td>female</td>\n",
       "      <td>49.0</td>\n",
       "      <td>1st</td>\n",
       "    </tr>\n",
       "    <tr>\n",
       "      <th>Kimball, Mr. Edwin Nelson Jr</th>\n",
       "      <td>yes</td>\n",
       "      <td>male</td>\n",
       "      <td>42.0</td>\n",
       "      <td>1st</td>\n",
       "    </tr>\n",
       "  </tbody>\n",
       "</table>\n",
       "</div>"
      ],
      "text/plain": [
       "                                survived     sex   age passengerClass\n",
       "Pickard, Mr. Berk (Berk Trembis      yes    male  32.0            3rd\n",
       "Mamee, Mr. Hanna                     yes    male   NaN            3rd\n",
       "Hakkarainen, Mrs. Pekka Pietari      yes  female  24.0            3rd\n",
       "Harper, Mrs. Henry Sleeper (Myn      yes  female  49.0            1st\n",
       "Kimball, Mr. Edwin Nelson Jr         yes    male  42.0            1st"
      ]
     },
     "metadata": {},
     "output_type": "display_data"
    },
    {
     "data": {
      "text/plain": [
       "survived           object\n",
       "sex                object\n",
       "age               float64\n",
       "passengerClass     object\n",
       "dtype: object"
      ]
     },
     "metadata": {},
     "output_type": "display_data"
    }
   ],
   "source": [
    "display(TrainDS.head(), TrainDS.dtypes)"
   ]
  },
  {
   "cell_type": "code",
   "execution_count": 35,
   "metadata": {},
   "outputs": [
    {
     "data": {
      "text/html": [
       "<div>\n",
       "<style scoped>\n",
       "    .dataframe tbody tr th:only-of-type {\n",
       "        vertical-align: middle;\n",
       "    }\n",
       "\n",
       "    .dataframe tbody tr th {\n",
       "        vertical-align: top;\n",
       "    }\n",
       "\n",
       "    .dataframe thead th {\n",
       "        text-align: right;\n",
       "    }\n",
       "</style>\n",
       "<table border=\"1\" class=\"dataframe\">\n",
       "  <thead>\n",
       "    <tr style=\"text-align: right;\">\n",
       "      <th></th>\n",
       "      <th>survived</th>\n",
       "      <th>sex</th>\n",
       "      <th>passengerClass</th>\n",
       "      <th>age</th>\n",
       "    </tr>\n",
       "  </thead>\n",
       "  <tbody>\n",
       "    <tr>\n",
       "      <th>Pickard, Mr. Berk (Berk Trembis</th>\n",
       "      <td>yes</td>\n",
       "      <td>male</td>\n",
       "      <td>3rd</td>\n",
       "      <td>32.0</td>\n",
       "    </tr>\n",
       "    <tr>\n",
       "      <th>Mamee, Mr. Hanna</th>\n",
       "      <td>yes</td>\n",
       "      <td>male</td>\n",
       "      <td>3rd</td>\n",
       "      <td>28.0</td>\n",
       "    </tr>\n",
       "    <tr>\n",
       "      <th>Hakkarainen, Mrs. Pekka Pietari</th>\n",
       "      <td>yes</td>\n",
       "      <td>female</td>\n",
       "      <td>3rd</td>\n",
       "      <td>24.0</td>\n",
       "    </tr>\n",
       "    <tr>\n",
       "      <th>Harper, Mrs. Henry Sleeper (Myn</th>\n",
       "      <td>yes</td>\n",
       "      <td>female</td>\n",
       "      <td>1st</td>\n",
       "      <td>49.0</td>\n",
       "    </tr>\n",
       "    <tr>\n",
       "      <th>Kimball, Mr. Edwin Nelson Jr</th>\n",
       "      <td>yes</td>\n",
       "      <td>male</td>\n",
       "      <td>1st</td>\n",
       "      <td>42.0</td>\n",
       "    </tr>\n",
       "  </tbody>\n",
       "</table>\n",
       "</div>"
      ],
      "text/plain": [
       "                                survived     sex passengerClass   age\n",
       "Pickard, Mr. Berk (Berk Trembis      yes    male            3rd  32.0\n",
       "Mamee, Mr. Hanna                     yes    male            3rd  28.0\n",
       "Hakkarainen, Mrs. Pekka Pietari      yes  female            3rd  24.0\n",
       "Harper, Mrs. Henry Sleeper (Myn      yes  female            1st  49.0\n",
       "Kimball, Mr. Edwin Nelson Jr         yes    male            1st  42.0"
      ]
     },
     "execution_count": 35,
     "metadata": {},
     "output_type": "execute_result"
    }
   ],
   "source": [
    "imp_median = SimpleImputer(missing_values = np.nan, \n",
    "                           strategy = 'median')\n",
    "\n",
    "imp_raw_data_train = TrainDS.select_dtypes(exclude = ['object', 'category'])\n",
    "\n",
    "imp_median = imp_median.fit(imp_raw_data_train)\n",
    "\n",
    "imputed_data_train = pd.DataFrame(imp_median.transform(imp_raw_data_train))\n",
    "\n",
    "imputed_data_train.columns = imp_raw_data_train.columns\n",
    "imputed_data_train.index = imp_raw_data_train.index\n",
    "\n",
    "TrainDS_Imp = pd.concat([TrainDS.drop(imp_raw_data_train.columns, axis = 1), imputed_data_train], axis = 1)\n",
    "\n",
    "TrainDS_Imp.head()"
   ]
  },
  {
   "cell_type": "code",
   "execution_count": 36,
   "metadata": {},
   "outputs": [
    {
     "data": {
      "text/plain": [
       "0.0"
      ]
     },
     "execution_count": 36,
     "metadata": {},
     "output_type": "execute_result"
    }
   ],
   "source": [
    "round(1 - len(TrainDS_Imp.dropna())/len(TrainDS_Imp), 3)"
   ]
  },
  {
   "cell_type": "code",
   "execution_count": 37,
   "metadata": {},
   "outputs": [
    {
     "data": {
      "text/html": [
       "<div>\n",
       "<style scoped>\n",
       "    .dataframe tbody tr th:only-of-type {\n",
       "        vertical-align: middle;\n",
       "    }\n",
       "\n",
       "    .dataframe tbody tr th {\n",
       "        vertical-align: top;\n",
       "    }\n",
       "\n",
       "    .dataframe thead th {\n",
       "        text-align: right;\n",
       "    }\n",
       "</style>\n",
       "<table border=\"1\" class=\"dataframe\">\n",
       "  <thead>\n",
       "    <tr style=\"text-align: right;\">\n",
       "      <th></th>\n",
       "      <th>age</th>\n",
       "      <th>survived</th>\n",
       "      <th>sex</th>\n",
       "      <th>passengerClass</th>\n",
       "    </tr>\n",
       "  </thead>\n",
       "  <tbody>\n",
       "    <tr>\n",
       "      <th>Pickard, Mr. Berk (Berk Trembis</th>\n",
       "      <td>32.0</td>\n",
       "      <td>yes</td>\n",
       "      <td>male</td>\n",
       "      <td>3rd</td>\n",
       "    </tr>\n",
       "    <tr>\n",
       "      <th>Mamee, Mr. Hanna</th>\n",
       "      <td>28.0</td>\n",
       "      <td>yes</td>\n",
       "      <td>male</td>\n",
       "      <td>3rd</td>\n",
       "    </tr>\n",
       "    <tr>\n",
       "      <th>Hakkarainen, Mrs. Pekka Pietari</th>\n",
       "      <td>24.0</td>\n",
       "      <td>yes</td>\n",
       "      <td>female</td>\n",
       "      <td>3rd</td>\n",
       "    </tr>\n",
       "    <tr>\n",
       "      <th>Harper, Mrs. Henry Sleeper (Myn</th>\n",
       "      <td>49.0</td>\n",
       "      <td>yes</td>\n",
       "      <td>female</td>\n",
       "      <td>1st</td>\n",
       "    </tr>\n",
       "    <tr>\n",
       "      <th>Kimball, Mr. Edwin Nelson Jr</th>\n",
       "      <td>42.0</td>\n",
       "      <td>yes</td>\n",
       "      <td>male</td>\n",
       "      <td>1st</td>\n",
       "    </tr>\n",
       "  </tbody>\n",
       "</table>\n",
       "</div>"
      ],
      "text/plain": [
       "                                  age survived     sex passengerClass\n",
       "Pickard, Mr. Berk (Berk Trembis  32.0      yes    male            3rd\n",
       "Mamee, Mr. Hanna                 28.0      yes    male            3rd\n",
       "Hakkarainen, Mrs. Pekka Pietari  24.0      yes  female            3rd\n",
       "Harper, Mrs. Henry Sleeper (Myn  49.0      yes  female            1st\n",
       "Kimball, Mr. Edwin Nelson Jr     42.0      yes    male            1st"
      ]
     },
     "execution_count": 37,
     "metadata": {},
     "output_type": "execute_result"
    }
   ],
   "source": [
    "imp_constant = SimpleImputer(missing_values = np.nan, \n",
    "                             strategy = 'constant')\n",
    "\n",
    "imp_raw_data_train = TrainDS_Imp.select_dtypes(include = ['object', 'category'])\n",
    "\n",
    "imp_constant = imp_constant.fit(imp_raw_data_train)\n",
    "\n",
    "imputed_data_train = pd.DataFrame(imp_constant.transform(imp_raw_data_train))\n",
    "\n",
    "imputed_data_train.columns = imp_raw_data_train.columns\n",
    "imputed_data_train.index = imp_raw_data_train.index\n",
    "\n",
    "TrainDS_ImpConst = pd.concat([TrainDS_Imp.drop(imp_raw_data_train.columns, axis = 1), imputed_data_train], axis = 1)\n",
    "\n",
    "TrainDS_ImpConst.head()"
   ]
  },
  {
   "cell_type": "markdown",
   "metadata": {},
   "source": [
    "Encoding the categorical data:"
   ]
  },
  {
   "cell_type": "code",
   "execution_count": 38,
   "metadata": {},
   "outputs": [
    {
     "data": {
      "text/html": [
       "<div>\n",
       "<style scoped>\n",
       "    .dataframe tbody tr th:only-of-type {\n",
       "        vertical-align: middle;\n",
       "    }\n",
       "\n",
       "    .dataframe tbody tr th {\n",
       "        vertical-align: top;\n",
       "    }\n",
       "\n",
       "    .dataframe thead th {\n",
       "        text-align: right;\n",
       "    }\n",
       "</style>\n",
       "<table border=\"1\" class=\"dataframe\">\n",
       "  <thead>\n",
       "    <tr style=\"text-align: right;\">\n",
       "      <th></th>\n",
       "      <th>age</th>\n",
       "      <th>survived</th>\n",
       "      <th>sex_female</th>\n",
       "      <th>sex_male</th>\n",
       "      <th>passengerClass_1st</th>\n",
       "      <th>passengerClass_2nd</th>\n",
       "      <th>passengerClass_3rd</th>\n",
       "    </tr>\n",
       "  </thead>\n",
       "  <tbody>\n",
       "    <tr>\n",
       "      <th>Pickard, Mr. Berk (Berk Trembis</th>\n",
       "      <td>32.0</td>\n",
       "      <td>yes</td>\n",
       "      <td>0.0</td>\n",
       "      <td>1.0</td>\n",
       "      <td>0.0</td>\n",
       "      <td>0.0</td>\n",
       "      <td>1.0</td>\n",
       "    </tr>\n",
       "    <tr>\n",
       "      <th>Mamee, Mr. Hanna</th>\n",
       "      <td>28.0</td>\n",
       "      <td>yes</td>\n",
       "      <td>0.0</td>\n",
       "      <td>1.0</td>\n",
       "      <td>0.0</td>\n",
       "      <td>0.0</td>\n",
       "      <td>1.0</td>\n",
       "    </tr>\n",
       "    <tr>\n",
       "      <th>Hakkarainen, Mrs. Pekka Pietari</th>\n",
       "      <td>24.0</td>\n",
       "      <td>yes</td>\n",
       "      <td>1.0</td>\n",
       "      <td>0.0</td>\n",
       "      <td>0.0</td>\n",
       "      <td>0.0</td>\n",
       "      <td>1.0</td>\n",
       "    </tr>\n",
       "    <tr>\n",
       "      <th>Harper, Mrs. Henry Sleeper (Myn</th>\n",
       "      <td>49.0</td>\n",
       "      <td>yes</td>\n",
       "      <td>1.0</td>\n",
       "      <td>0.0</td>\n",
       "      <td>1.0</td>\n",
       "      <td>0.0</td>\n",
       "      <td>0.0</td>\n",
       "    </tr>\n",
       "    <tr>\n",
       "      <th>Kimball, Mr. Edwin Nelson Jr</th>\n",
       "      <td>42.0</td>\n",
       "      <td>yes</td>\n",
       "      <td>0.0</td>\n",
       "      <td>1.0</td>\n",
       "      <td>1.0</td>\n",
       "      <td>0.0</td>\n",
       "      <td>0.0</td>\n",
       "    </tr>\n",
       "  </tbody>\n",
       "</table>\n",
       "</div>"
      ],
      "text/plain": [
       "                                  age survived  sex_female  sex_male  \\\n",
       "Pickard, Mr. Berk (Berk Trembis  32.0      yes         0.0       1.0   \n",
       "Mamee, Mr. Hanna                 28.0      yes         0.0       1.0   \n",
       "Hakkarainen, Mrs. Pekka Pietari  24.0      yes         1.0       0.0   \n",
       "Harper, Mrs. Henry Sleeper (Myn  49.0      yes         1.0       0.0   \n",
       "Kimball, Mr. Edwin Nelson Jr     42.0      yes         0.0       1.0   \n",
       "\n",
       "                                 passengerClass_1st  passengerClass_2nd  \\\n",
       "Pickard, Mr. Berk (Berk Trembis                 0.0                 0.0   \n",
       "Mamee, Mr. Hanna                                0.0                 0.0   \n",
       "Hakkarainen, Mrs. Pekka Pietari                 0.0                 0.0   \n",
       "Harper, Mrs. Henry Sleeper (Myn                 1.0                 0.0   \n",
       "Kimball, Mr. Edwin Nelson Jr                    1.0                 0.0   \n",
       "\n",
       "                                 passengerClass_3rd  \n",
       "Pickard, Mr. Berk (Berk Trembis                 1.0  \n",
       "Mamee, Mr. Hanna                                1.0  \n",
       "Hakkarainen, Mrs. Pekka Pietari                 1.0  \n",
       "Harper, Mrs. Henry Sleeper (Myn                 0.0  \n",
       "Kimball, Mr. Edwin Nelson Jr                    0.0  "
      ]
     },
     "execution_count": 38,
     "metadata": {},
     "output_type": "execute_result"
    }
   ],
   "source": [
    "enc = OneHotEncoder(handle_unknown = 'ignore', \n",
    "                    sparse = False)\n",
    "\n",
    "enc_raw_data_train = TrainDS_ImpConst.select_dtypes(['object', 'category']).drop(columns = 'survived') # note: ignore the target column (i.e., survived)\n",
    "\n",
    "enc = enc.fit(enc_raw_data_train)\n",
    "\n",
    "encoded_data_train = pd.DataFrame(enc.transform(enc_raw_data_train))\n",
    "\n",
    "encoded_data_train.columns = enc.get_feature_names(enc_raw_data_train.columns)\n",
    "encoded_data_train.index = enc_raw_data_train.index\n",
    "\n",
    "TrainDS_ImpConstEnc = pd.concat([TrainDS_ImpConst.drop(enc_raw_data_train.columns, axis = 1), encoded_data_train], axis = 1)\n",
    "\n",
    "TrainDS_ImpConstEnc.head()"
   ]
  },
  {
   "cell_type": "markdown",
   "metadata": {},
   "source": [
    "Variance threshold:"
   ]
  },
  {
   "cell_type": "code",
   "execution_count": 39,
   "metadata": {},
   "outputs": [
    {
     "data": {
      "text/html": [
       "<div>\n",
       "<style scoped>\n",
       "    .dataframe tbody tr th:only-of-type {\n",
       "        vertical-align: middle;\n",
       "    }\n",
       "\n",
       "    .dataframe tbody tr th {\n",
       "        vertical-align: top;\n",
       "    }\n",
       "\n",
       "    .dataframe thead th {\n",
       "        text-align: right;\n",
       "    }\n",
       "</style>\n",
       "<table border=\"1\" class=\"dataframe\">\n",
       "  <thead>\n",
       "    <tr style=\"text-align: right;\">\n",
       "      <th></th>\n",
       "      <th>survived</th>\n",
       "      <th>age</th>\n",
       "      <th>sex_female</th>\n",
       "      <th>sex_male</th>\n",
       "      <th>passengerClass_1st</th>\n",
       "      <th>passengerClass_2nd</th>\n",
       "      <th>passengerClass_3rd</th>\n",
       "    </tr>\n",
       "  </thead>\n",
       "  <tbody>\n",
       "    <tr>\n",
       "      <th>Pickard, Mr. Berk (Berk Trembis</th>\n",
       "      <td>yes</td>\n",
       "      <td>32.0</td>\n",
       "      <td>0.0</td>\n",
       "      <td>1.0</td>\n",
       "      <td>0.0</td>\n",
       "      <td>0.0</td>\n",
       "      <td>1.0</td>\n",
       "    </tr>\n",
       "    <tr>\n",
       "      <th>Mamee, Mr. Hanna</th>\n",
       "      <td>yes</td>\n",
       "      <td>28.0</td>\n",
       "      <td>0.0</td>\n",
       "      <td>1.0</td>\n",
       "      <td>0.0</td>\n",
       "      <td>0.0</td>\n",
       "      <td>1.0</td>\n",
       "    </tr>\n",
       "    <tr>\n",
       "      <th>Hakkarainen, Mrs. Pekka Pietari</th>\n",
       "      <td>yes</td>\n",
       "      <td>24.0</td>\n",
       "      <td>1.0</td>\n",
       "      <td>0.0</td>\n",
       "      <td>0.0</td>\n",
       "      <td>0.0</td>\n",
       "      <td>1.0</td>\n",
       "    </tr>\n",
       "    <tr>\n",
       "      <th>Harper, Mrs. Henry Sleeper (Myn</th>\n",
       "      <td>yes</td>\n",
       "      <td>49.0</td>\n",
       "      <td>1.0</td>\n",
       "      <td>0.0</td>\n",
       "      <td>1.0</td>\n",
       "      <td>0.0</td>\n",
       "      <td>0.0</td>\n",
       "    </tr>\n",
       "    <tr>\n",
       "      <th>Kimball, Mr. Edwin Nelson Jr</th>\n",
       "      <td>yes</td>\n",
       "      <td>42.0</td>\n",
       "      <td>0.0</td>\n",
       "      <td>1.0</td>\n",
       "      <td>1.0</td>\n",
       "      <td>0.0</td>\n",
       "      <td>0.0</td>\n",
       "    </tr>\n",
       "  </tbody>\n",
       "</table>\n",
       "</div>"
      ],
      "text/plain": [
       "                                survived   age  sex_female  sex_male  \\\n",
       "Pickard, Mr. Berk (Berk Trembis      yes  32.0         0.0       1.0   \n",
       "Mamee, Mr. Hanna                     yes  28.0         0.0       1.0   \n",
       "Hakkarainen, Mrs. Pekka Pietari      yes  24.0         1.0       0.0   \n",
       "Harper, Mrs. Henry Sleeper (Myn      yes  49.0         1.0       0.0   \n",
       "Kimball, Mr. Edwin Nelson Jr         yes  42.0         0.0       1.0   \n",
       "\n",
       "                                 passengerClass_1st  passengerClass_2nd  \\\n",
       "Pickard, Mr. Berk (Berk Trembis                 0.0                 0.0   \n",
       "Mamee, Mr. Hanna                                0.0                 0.0   \n",
       "Hakkarainen, Mrs. Pekka Pietari                 0.0                 0.0   \n",
       "Harper, Mrs. Henry Sleeper (Myn                 1.0                 0.0   \n",
       "Kimball, Mr. Edwin Nelson Jr                    1.0                 0.0   \n",
       "\n",
       "                                 passengerClass_3rd  \n",
       "Pickard, Mr. Berk (Berk Trembis                 1.0  \n",
       "Mamee, Mr. Hanna                                1.0  \n",
       "Hakkarainen, Mrs. Pekka Pietari                 1.0  \n",
       "Harper, Mrs. Henry Sleeper (Myn                 0.0  \n",
       "Kimball, Mr. Edwin Nelson Jr                    0.0  "
      ]
     },
     "execution_count": 39,
     "metadata": {},
     "output_type": "execute_result"
    }
   ],
   "source": [
    "selector = VarianceThreshold()\n",
    "\n",
    "sel_raw_data_train = TrainDS_ImpConstEnc.drop(columns = 'survived') # note: ignore the target column (i.e., survived)\n",
    "\n",
    "selector = selector.fit(sel_raw_data_train)\n",
    "\n",
    "selected_data_train = pd.DataFrame(selector.transform(sel_raw_data_train))\n",
    "\n",
    "selected_data_train.columns = sel_raw_data_train.columns\n",
    "selected_data_train.index = sel_raw_data_train.index\n",
    "\n",
    "TrainDS_ImpConstEncSel = pd.concat([TrainDS_ImpConstEnc.drop(sel_raw_data_train.columns, axis = 1), selected_data_train], axis = 1)\n",
    "\n",
    "TrainDS_ImpConstEncSel.head()"
   ]
  },
  {
   "cell_type": "code",
   "execution_count": 40,
   "metadata": {},
   "outputs": [
    {
     "data": {
      "text/html": [
       "<div>\n",
       "<style scoped>\n",
       "    .dataframe tbody tr th:only-of-type {\n",
       "        vertical-align: middle;\n",
       "    }\n",
       "\n",
       "    .dataframe tbody tr th {\n",
       "        vertical-align: top;\n",
       "    }\n",
       "\n",
       "    .dataframe thead th {\n",
       "        text-align: right;\n",
       "    }\n",
       "</style>\n",
       "<table border=\"1\" class=\"dataframe\">\n",
       "  <thead>\n",
       "    <tr style=\"text-align: right;\">\n",
       "      <th></th>\n",
       "      <th>survived</th>\n",
       "      <th>sex</th>\n",
       "      <th>age</th>\n",
       "      <th>passengerClass</th>\n",
       "    </tr>\n",
       "  </thead>\n",
       "  <tbody>\n",
       "    <tr>\n",
       "      <th>Risien, Mrs. Samuel (Emma)</th>\n",
       "      <td>no</td>\n",
       "      <td>female</td>\n",
       "      <td>NaN</td>\n",
       "      <td>3rd</td>\n",
       "    </tr>\n",
       "    <tr>\n",
       "      <th>Sadlier, Mr. Matthew</th>\n",
       "      <td>no</td>\n",
       "      <td>male</td>\n",
       "      <td>NaN</td>\n",
       "      <td>3rd</td>\n",
       "    </tr>\n",
       "    <tr>\n",
       "      <th>Widener, Mr. George Dunton</th>\n",
       "      <td>no</td>\n",
       "      <td>male</td>\n",
       "      <td>50.0</td>\n",
       "      <td>1st</td>\n",
       "    </tr>\n",
       "    <tr>\n",
       "      <th>Daly, Miss. Margaret Marcella</th>\n",
       "      <td>yes</td>\n",
       "      <td>female</td>\n",
       "      <td>30.0</td>\n",
       "      <td>3rd</td>\n",
       "    </tr>\n",
       "    <tr>\n",
       "      <th>Bryhl, Mr. Kurt Arnold Gottfrid</th>\n",
       "      <td>no</td>\n",
       "      <td>male</td>\n",
       "      <td>25.0</td>\n",
       "      <td>2nd</td>\n",
       "    </tr>\n",
       "  </tbody>\n",
       "</table>\n",
       "</div>"
      ],
      "text/plain": [
       "                                survived     sex   age passengerClass\n",
       "Risien, Mrs. Samuel (Emma)            no  female   NaN            3rd\n",
       "Sadlier, Mr. Matthew                  no    male   NaN            3rd\n",
       "Widener, Mr. George Dunton            no    male  50.0            1st\n",
       "Daly, Miss. Margaret Marcella        yes  female  30.0            3rd\n",
       "Bryhl, Mr. Kurt Arnold Gottfrid       no    male  25.0            2nd"
      ]
     },
     "execution_count": 40,
     "metadata": {},
     "output_type": "execute_result"
    }
   ],
   "source": [
    "Test.head()"
   ]
  },
  {
   "cell_type": "code",
   "execution_count": 41,
   "metadata": {},
   "outputs": [
    {
     "data": {
      "text/html": [
       "<div>\n",
       "<style scoped>\n",
       "    .dataframe tbody tr th:only-of-type {\n",
       "        vertical-align: middle;\n",
       "    }\n",
       "\n",
       "    .dataframe tbody tr th {\n",
       "        vertical-align: top;\n",
       "    }\n",
       "\n",
       "    .dataframe thead th {\n",
       "        text-align: right;\n",
       "    }\n",
       "</style>\n",
       "<table border=\"1\" class=\"dataframe\">\n",
       "  <thead>\n",
       "    <tr style=\"text-align: right;\">\n",
       "      <th></th>\n",
       "      <th>age</th>\n",
       "      <th>survived</th>\n",
       "      <th>sex_female</th>\n",
       "      <th>sex_male</th>\n",
       "      <th>passengerClass_1st</th>\n",
       "      <th>passengerClass_2nd</th>\n",
       "      <th>passengerClass_3rd</th>\n",
       "    </tr>\n",
       "  </thead>\n",
       "  <tbody>\n",
       "    <tr>\n",
       "      <th>Risien, Mrs. Samuel (Emma)</th>\n",
       "      <td>28.0</td>\n",
       "      <td>no</td>\n",
       "      <td>1.0</td>\n",
       "      <td>0.0</td>\n",
       "      <td>0.0</td>\n",
       "      <td>0.0</td>\n",
       "      <td>1.0</td>\n",
       "    </tr>\n",
       "    <tr>\n",
       "      <th>Sadlier, Mr. Matthew</th>\n",
       "      <td>28.0</td>\n",
       "      <td>no</td>\n",
       "      <td>0.0</td>\n",
       "      <td>1.0</td>\n",
       "      <td>0.0</td>\n",
       "      <td>0.0</td>\n",
       "      <td>1.0</td>\n",
       "    </tr>\n",
       "    <tr>\n",
       "      <th>Widener, Mr. George Dunton</th>\n",
       "      <td>50.0</td>\n",
       "      <td>no</td>\n",
       "      <td>0.0</td>\n",
       "      <td>1.0</td>\n",
       "      <td>1.0</td>\n",
       "      <td>0.0</td>\n",
       "      <td>0.0</td>\n",
       "    </tr>\n",
       "    <tr>\n",
       "      <th>Daly, Miss. Margaret Marcella</th>\n",
       "      <td>30.0</td>\n",
       "      <td>yes</td>\n",
       "      <td>1.0</td>\n",
       "      <td>0.0</td>\n",
       "      <td>0.0</td>\n",
       "      <td>0.0</td>\n",
       "      <td>1.0</td>\n",
       "    </tr>\n",
       "    <tr>\n",
       "      <th>Bryhl, Mr. Kurt Arnold Gottfrid</th>\n",
       "      <td>25.0</td>\n",
       "      <td>no</td>\n",
       "      <td>0.0</td>\n",
       "      <td>1.0</td>\n",
       "      <td>0.0</td>\n",
       "      <td>1.0</td>\n",
       "      <td>0.0</td>\n",
       "    </tr>\n",
       "  </tbody>\n",
       "</table>\n",
       "</div>"
      ],
      "text/plain": [
       "                                  age survived  sex_female  sex_male  \\\n",
       "Risien, Mrs. Samuel (Emma)       28.0       no         1.0       0.0   \n",
       "Sadlier, Mr. Matthew             28.0       no         0.0       1.0   \n",
       "Widener, Mr. George Dunton       50.0       no         0.0       1.0   \n",
       "Daly, Miss. Margaret Marcella    30.0      yes         1.0       0.0   \n",
       "Bryhl, Mr. Kurt Arnold Gottfrid  25.0       no         0.0       1.0   \n",
       "\n",
       "                                 passengerClass_1st  passengerClass_2nd  \\\n",
       "Risien, Mrs. Samuel (Emma)                      0.0                 0.0   \n",
       "Sadlier, Mr. Matthew                            0.0                 0.0   \n",
       "Widener, Mr. George Dunton                      1.0                 0.0   \n",
       "Daly, Miss. Margaret Marcella                   0.0                 0.0   \n",
       "Bryhl, Mr. Kurt Arnold Gottfrid                 0.0                 1.0   \n",
       "\n",
       "                                 passengerClass_3rd  \n",
       "Risien, Mrs. Samuel (Emma)                      1.0  \n",
       "Sadlier, Mr. Matthew                            1.0  \n",
       "Widener, Mr. George Dunton                      0.0  \n",
       "Daly, Miss. Margaret Marcella                   1.0  \n",
       "Bryhl, Mr. Kurt Arnold Gottfrid                 0.0  "
      ]
     },
     "execution_count": 41,
     "metadata": {},
     "output_type": "execute_result"
    }
   ],
   "source": [
    "# median imputation (for numeric data)\n",
    "\n",
    "imp_raw_data_test = Test.select_dtypes(exclude = ['object', 'category'])\n",
    "\n",
    "imputed_data_test = pd.DataFrame(imp_median.transform(imp_raw_data_test))\n",
    "\n",
    "imputed_data_test.columns = imp_raw_data_test.columns\n",
    "imputed_data_test.index = imp_raw_data_test.index\n",
    "\n",
    "Test_Imp = pd.concat([Test.drop(imp_raw_data_test.columns, axis = 1), imputed_data_test], axis = 1)\n",
    "\n",
    "# constant imputation (for categorical data)\n",
    "\n",
    "imp_raw_data_test = Test_Imp.select_dtypes(include = ['object', 'category'])\n",
    "\n",
    "imputed_data_test = pd.DataFrame(imp_constant.transform(imp_raw_data_test))\n",
    "\n",
    "imputed_data_test.columns = imp_raw_data_test.columns\n",
    "imputed_data_test.index = imp_raw_data_test.index\n",
    "\n",
    "Test_ImpConst = pd.concat([Test_Imp.drop(imp_raw_data_test.columns, axis = 1), imputed_data_test], axis = 1)\n",
    "\n",
    "# one hot encoding\n",
    "\n",
    "enc_raw_data_test = Test_ImpConst.select_dtypes(['object', 'category']).drop(columns = 'survived')\n",
    "\n",
    "encoded_data_test = pd.DataFrame(enc.transform(enc_raw_data_test))\n",
    "\n",
    "encoded_data_test.columns = enc.get_feature_names(enc_raw_data_test.columns)\n",
    "encoded_data_test.index = enc_raw_data_test.index\n",
    "\n",
    "Test_ImpConstEnc = pd.concat([Test_ImpConst.drop(enc_raw_data_test.columns, axis = 1), encoded_data_test], axis = 1)\n",
    "\n",
    "# final result\n",
    "\n",
    "Test_ImpConstEnc.head()"
   ]
  },
  {
   "cell_type": "markdown",
   "metadata": {},
   "source": [
    "That takes care of applying the various data cleaning methods generated using the training data to the test date (note that it's not necessary to perform zero variance removal for the test data since the additional columns are irrelevant when it comes to generating test predictions).\n",
    "\n",
    "Now let's fit several machine learning models (primarily tree-based) including a:\n",
    "\n",
    "1. Decision Tree\n",
    "2. AdaBoost\n",
    "3. Random Forest\n",
    "4. Support Vector Machine (Linear)\n",
    "\n",
    "Before we get started, let's discuss the issue of *hyperparameter tuning*, which are model-specific settings that can influence prediction results (e.g., accuracy). To see what parameters a model supports, use the ***get_params*** function; for example, for a [*decision tree*](https://scikit-learn.org/stable/modules/tree.html) classifer, we can use:"
   ]
  },
  {
   "cell_type": "code",
   "execution_count": 42,
   "metadata": {},
   "outputs": [
    {
     "data": {
      "text/plain": [
       "{'ccp_alpha': 0.0,\n",
       " 'class_weight': None,\n",
       " 'criterion': 'gini',\n",
       " 'max_depth': None,\n",
       " 'max_features': None,\n",
       " 'max_leaf_nodes': None,\n",
       " 'min_impurity_decrease': 0.0,\n",
       " 'min_impurity_split': None,\n",
       " 'min_samples_leaf': 1,\n",
       " 'min_samples_split': 2,\n",
       " 'min_weight_fraction_leaf': 0.0,\n",
       " 'presort': 'deprecated',\n",
       " 'random_state': None,\n",
       " 'splitter': 'best'}"
      ]
     },
     "execution_count": 42,
     "metadata": {},
     "output_type": "execute_result"
    }
   ],
   "source": [
    "DecisionTreeClassifier().get_params()"
   ]
  },
  {
   "cell_type": "markdown",
   "metadata": {},
   "source": [
    "Additional information regarding these model-specific parameters can be found via ***help*** (e.g., `help(DecisionTreeClassifier)`) or via a Google search.\n",
    "\n",
    "A common question that often comes up when training and tuning models is what settings to use to yield the best performance. The answer to this question is two-fold:\n",
    "\n",
    "1. in terms of default/starting settings, there are often rule-of-thumb defaults that often come out of the literature on machine learning; for example, for random forest models, the recommended number of trees for classification problems is $\\sqrt{p}$, where $p$ is the number of parameters in the data (e.g., see [The Elements of\n",
    "Statistical Learning](https://web.stanford.edu/~hastie/ElemStatLearn/))\n",
    "2. realistically, the best settings depend upon the data, so you'll need to try various combinations of settings to see what works best\n",
    "\n",
    "Conveniently, sklearn provides a variety of functions to streamline the model tuning process as documented [here](https://scikit-learn.org/stable/modules/grid_search.html). For this tutorial, we'll focus on the *grid search* approach, which involves sequentally evaluating setting combinations to find the optima. Specifically, we'll be using the [***GridSearchCV***](https://scikit-learn.org/stable/modules/generated/sklearn.model_selection.GridSearchCV.html#sklearn.model_selection.GridSearchCV) function, which uses [*cross-validation*](https://scikit-learn.org/stable/modules/cross_validation.html#cross-validation) (a resampling procedure) to exhaustively evaluate different settings from a set of predefined options. After testing all of the parameter combinations, it will ultimately find and utilize the setting with the best predictive performance based on a selected [*evaluation metric*](https://scikit-learn.org/stable/modules/model_evaluation.html#scoring-parameter) such as *balanced accuracy* or *receiver operater charactertistic (ROC) area under the curve (AUC)* -- for details on these, see the following section of the sklearn [guide](https://scikit-learn.org/stable/modules/model_evaluation.html).\n",
    "\n",
    "Let's see this using our data:"
   ]
  },
  {
   "cell_type": "code",
   "execution_count": 43,
   "metadata": {},
   "outputs": [
    {
     "name": "stdout",
     "output_type": "stream",
     "text": [
      "Now working on model 1 of 5: Decision Tree\n",
      "Now working on model 2 of 5: AdaBoost\n",
      "Now working on model 3 of 5: Random Forest\n",
      "Now working on model 4 of 5: Linear SVM\n",
      "Now working on model 5 of 5: XGBoost\n",
      "Finished!\n"
     ]
    }
   ],
   "source": [
    "# set up data and labels\n",
    "X_train = TrainDS_ImpConstEncSel.drop(columns = 'survived')\n",
    "y_train = TrainDS_ImpConstEncSel.survived\n",
    "\n",
    "X_test = Test_ImpConstEnc.drop(columns = 'survived')\n",
    "y_test = Test_ImpConstEnc.survived\n",
    "\n",
    "pos_label = 'yes'\n",
    "\n",
    "# set up scoring metric\n",
    "scoring_metric = 'balanced_accuracy'\n",
    "\n",
    "# set up classifiers and tuning parameters\n",
    "names = ['Decision Tree', 'AdaBoost', 'Random Forest', 'Linear SVM', 'XGBoost']\n",
    "classifiers = [DecisionTreeClassifier(random_state = 345), \n",
    "               AdaBoostClassifier(random_state = 345), \n",
    "               RandomForestClassifier(random_state = 345), \n",
    "               SVC(random_state = 345, kernel = 'linear', probability = True),\n",
    "               XGBClassifier(random_state = 345)]\n",
    "param_grids = [{'max_depth': [2, 3, 4], 'criterion': ['gini', 'entropy']}, \n",
    "               {'n_estimators': [25, 50, 100, 150, 300]}, \n",
    "               {'max_depth': [2, 3, 4], 'max_features': [None, 'sqrt', 'log2'], 'n_estimators': [10, 20, 50, 100]}, \n",
    "               {'C': [0.01, 0.1, 0.5, 1]},\n",
    "               {'n_estimators': [ 10, 20, 50, 75, 100]}]\n",
    "\n",
    "# create empty lists for storing outcomes\n",
    "models = []\n",
    "preds = []\n",
    "probs = []\n",
    "BAs = []\n",
    "AUCs = []\n",
    "FPRs = []\n",
    "TPRs = []\n",
    "timings = []\n",
    "\n",
    "# train classifiers and generate test predictions/probabilities\n",
    "for i, eachClassifier in enumerate(classifiers):\n",
    "    \n",
    "    print('Now working on model ', i + 1, ' of ', len(classifiers), ': ', names[i], sep = '')\n",
    "    \n",
    "    # define cross-validation/parameter tuning settings\n",
    "    search = GridSearchCV(eachClassifier, \n",
    "                          param_grids[i], \n",
    "                          cv = 5, # using (Stratified)KFold by default (with 5 folds)\n",
    "                          scoring = scoring_metric,\n",
    "                          n_jobs = -1) # use parallel processing\n",
    "    \n",
    "    model = search.fit(X_train, y_train)\n",
    "    pred = search.predict(X_test)\n",
    "    prob = search.predict_proba(X_test)[:, 1]\n",
    "    \n",
    "    models.append(model)\n",
    "    preds.append(pred)\n",
    "    probs.append(prob)\n",
    "    \n",
    "    BAs.append(balanced_accuracy_score(y_test, pred))\n",
    "    AUCs.append(roc_auc_score(y_test, prob))\n",
    "    \n",
    "    FPR, TPR, _ = roc_curve(y_test, prob, pos_label = pos_label)\n",
    "    \n",
    "    FPRs.append(FPR)\n",
    "    TPRs.append(TPR)\n",
    "    \n",
    "    timings.append(model.refit_time_)\n",
    "    \n",
    "print('Finished!')"
   ]
  },
  {
   "cell_type": "code",
   "execution_count": 44,
   "metadata": {},
   "outputs": [
    {
     "data": {
      "text/html": [
       "<div>\n",
       "<style scoped>\n",
       "    .dataframe tbody tr th:only-of-type {\n",
       "        vertical-align: middle;\n",
       "    }\n",
       "\n",
       "    .dataframe tbody tr th {\n",
       "        vertical-align: top;\n",
       "    }\n",
       "\n",
       "    .dataframe thead th {\n",
       "        text-align: right;\n",
       "    }\n",
       "</style>\n",
       "<table border=\"1\" class=\"dataframe\">\n",
       "  <thead>\n",
       "    <tr style=\"text-align: right;\">\n",
       "      <th></th>\n",
       "      <th>Classifier</th>\n",
       "      <th>Refit Time</th>\n",
       "      <th>Balanced Accuracy</th>\n",
       "      <th>AUC</th>\n",
       "    </tr>\n",
       "  </thead>\n",
       "  <tbody>\n",
       "    <tr>\n",
       "      <th>2</th>\n",
       "      <td>Random Forest</td>\n",
       "      <td>0.245</td>\n",
       "      <td>0.772</td>\n",
       "      <td>0.835</td>\n",
       "    </tr>\n",
       "    <tr>\n",
       "      <th>3</th>\n",
       "      <td>Linear SVM</td>\n",
       "      <td>0.240</td>\n",
       "      <td>0.772</td>\n",
       "      <td>0.833</td>\n",
       "    </tr>\n",
       "    <tr>\n",
       "      <th>4</th>\n",
       "      <td>XGBoost</td>\n",
       "      <td>0.859</td>\n",
       "      <td>0.758</td>\n",
       "      <td>0.833</td>\n",
       "    </tr>\n",
       "    <tr>\n",
       "      <th>0</th>\n",
       "      <td>Decision Tree</td>\n",
       "      <td>0.008</td>\n",
       "      <td>0.768</td>\n",
       "      <td>0.832</td>\n",
       "    </tr>\n",
       "    <tr>\n",
       "      <th>1</th>\n",
       "      <td>AdaBoost</td>\n",
       "      <td>0.382</td>\n",
       "      <td>0.748</td>\n",
       "      <td>0.814</td>\n",
       "    </tr>\n",
       "  </tbody>\n",
       "</table>\n",
       "</div>"
      ],
      "text/plain": [
       "      Classifier  Refit Time  Balanced Accuracy    AUC\n",
       "2  Random Forest       0.245              0.772  0.835\n",
       "3     Linear SVM       0.240              0.772  0.833\n",
       "4        XGBoost       0.859              0.758  0.833\n",
       "0  Decision Tree       0.008              0.768  0.832\n",
       "1       AdaBoost       0.382              0.748  0.814"
      ]
     },
     "metadata": {},
     "output_type": "display_data"
    }
   ],
   "source": [
    "results = pd.DataFrame({'Classifier': names, \n",
    "                        'Balanced Accuracy': BAs, \n",
    "                        'AUC': AUCs, \n",
    "                        'TPR': TPRs, \n",
    "                        'FPR': FPRs, \n",
    "                        'Refit Time': timings}).sort_values('AUC', ascending = False)\n",
    "\n",
    "display(round(results[['Classifier', 'Refit Time', 'Balanced Accuracy', 'AUC']], 3))"
   ]
  },
  {
   "cell_type": "code",
   "execution_count": 45,
   "metadata": {},
   "outputs": [
    {
     "data": {
      "image/png": "[encoded data removed]",
      "text/plain": [
       "<Figure size 504x432 with 2 Axes>"
      ]
     },
     "metadata": {},
     "output_type": "display_data"
    }
   ],
   "source": [
    "greenToRed = LinearSegmentedColormap.from_list('', ['green', 'whitesmoke', 'red'])\n",
    "cm.register_cmap('green_to_red', greenToRed)\n",
    "\n",
    "normRTs = plt.Normalize(results['Refit Time'].min(), results['Refit Time'].max())\n",
    "smRTs = plt.cm.ScalarMappable(cmap = 'green_to_red', norm = normRTs)\n",
    "\n",
    "ax = sns.barplot(y = 'Classifier', \n",
    "                 x = 'AUC', \n",
    "                 hue = 'Refit Time', \n",
    "                 dodge = False, \n",
    "                 palette = 'green_to_red', \n",
    "                 edgecolor = '.2', \n",
    "                 data = results)\n",
    "\n",
    "ax.get_legend().remove()\n",
    "ax.figure.colorbar(smRTs)\n",
    "ax.set(title = 'AUC Relative to Refit Time (s)')\n",
    "ax.set(xlim = (math.floor(results.AUC.min() * 10) * 10/100, \n",
    "               results.AUC.max() * 1.01))\n",
    "\n",
    "plt.show()"
   ]
  },
  {
   "cell_type": "code",
   "execution_count": 46,
   "metadata": {},
   "outputs": [
    {
     "data": {
      "image/png": "[encoded data removed]",
      "text/plain": [
       "<Figure size 576x576 with 1 Axes>"
      ]
     },
     "metadata": {},
     "output_type": "display_data"
    }
   ],
   "source": [
    "def Custom_ROC_Plot (results, X_test, y_test, title):\n",
    "\n",
    "    fig, ax = plt.subplots(figsize = (8, 8))\n",
    "\n",
    "    ax.plot(ax.get_xlim(), ax.get_ylim(), ls = '--', c = 'k')\n",
    "    ax.set(title = title)\n",
    "\n",
    "    for i in results.index:\n",
    "        plot_roc_curve(models[i], \n",
    "                       X_test, \n",
    "                       y_test, \n",
    "                       color = cm.Set1(i), \n",
    "                       label = results.loc[i, 'Classifier'] + ': ' + str(round(results.loc[i, 'AUC'], 3)), \n",
    "                       ax = ax)\n",
    "        \n",
    "    return([fig, ax])\n",
    "\n",
    "fig, ax = Custom_ROC_Plot(results, X_test, y_test, title = 'Test AUC Comparison')"
   ]
  },
  {
   "cell_type": "code",
   "execution_count": 47,
   "metadata": {},
   "outputs": [],
   "source": [
    "best_index = results.index[0]"
   ]
  },
  {
   "cell_type": "code",
   "execution_count": 48,
   "metadata": {},
   "outputs": [
    {
     "data": {
      "text/plain": [
       "RandomForestClassifier(max_depth=3, max_features='sqrt', n_estimators=20,\n",
       "                       random_state=345)"
      ]
     },
     "execution_count": 48,
     "metadata": {},
     "output_type": "execute_result"
    }
   ],
   "source": [
    "models[best_index].best_estimator_"
   ]
  },
  {
   "cell_type": "markdown",
   "metadata": {},
   "source": [
    "If desired, we can also pull up some additional details regarding our model tuning process (e.g., to see how different parameters performed during the tuning process):"
   ]
  },
  {
   "cell_type": "code",
   "execution_count": 49,
   "metadata": {},
   "outputs": [
    {
     "data": {
      "text/html": [
       "<div>\n",
       "<style scoped>\n",
       "    .dataframe tbody tr th:only-of-type {\n",
       "        vertical-align: middle;\n",
       "    }\n",
       "\n",
       "    .dataframe tbody tr th {\n",
       "        vertical-align: top;\n",
       "    }\n",
       "\n",
       "    .dataframe thead th {\n",
       "        text-align: right;\n",
       "    }\n",
       "</style>\n",
       "<table border=\"1\" class=\"dataframe\">\n",
       "  <thead>\n",
       "    <tr style=\"text-align: right;\">\n",
       "      <th></th>\n",
       "      <th>mean_fit_time</th>\n",
       "      <th>std_fit_time</th>\n",
       "      <th>mean_score_time</th>\n",
       "      <th>std_score_time</th>\n",
       "      <th>param_max_depth</th>\n",
       "      <th>param_max_features</th>\n",
       "      <th>param_n_estimators</th>\n",
       "      <th>params</th>\n",
       "      <th>split0_test_score</th>\n",
       "      <th>split1_test_score</th>\n",
       "      <th>split2_test_score</th>\n",
       "      <th>split3_test_score</th>\n",
       "      <th>split4_test_score</th>\n",
       "      <th>mean_test_score</th>\n",
       "      <th>std_test_score</th>\n",
       "      <th>rank_test_score</th>\n",
       "    </tr>\n",
       "  </thead>\n",
       "  <tbody>\n",
       "    <tr>\n",
       "      <th>17</th>\n",
       "      <td>0.398</td>\n",
       "      <td>0.116</td>\n",
       "      <td>0.056</td>\n",
       "      <td>0.018</td>\n",
       "      <td>3</td>\n",
       "      <td>sqrt</td>\n",
       "      <td>20</td>\n",
       "      <td>{'max_depth': 3, 'max_features': 'sqrt', 'n_es...</td>\n",
       "      <td>0.862</td>\n",
       "      <td>0.775</td>\n",
       "      <td>0.788</td>\n",
       "      <td>0.775</td>\n",
       "      <td>0.719</td>\n",
       "      <td>0.784</td>\n",
       "      <td>0.046</td>\n",
       "      <td>1</td>\n",
       "    </tr>\n",
       "    <tr>\n",
       "      <th>22</th>\n",
       "      <td>0.657</td>\n",
       "      <td>0.109</td>\n",
       "      <td>0.053</td>\n",
       "      <td>0.012</td>\n",
       "      <td>3</td>\n",
       "      <td>log2</td>\n",
       "      <td>50</td>\n",
       "      <td>{'max_depth': 3, 'max_features': 'log2', 'n_es...</td>\n",
       "      <td>0.862</td>\n",
       "      <td>0.775</td>\n",
       "      <td>0.788</td>\n",
       "      <td>0.775</td>\n",
       "      <td>0.719</td>\n",
       "      <td>0.784</td>\n",
       "      <td>0.046</td>\n",
       "      <td>1</td>\n",
       "    </tr>\n",
       "    <tr>\n",
       "      <th>21</th>\n",
       "      <td>0.332</td>\n",
       "      <td>0.091</td>\n",
       "      <td>0.042</td>\n",
       "      <td>0.016</td>\n",
       "      <td>3</td>\n",
       "      <td>log2</td>\n",
       "      <td>20</td>\n",
       "      <td>{'max_depth': 3, 'max_features': 'log2', 'n_es...</td>\n",
       "      <td>0.862</td>\n",
       "      <td>0.775</td>\n",
       "      <td>0.788</td>\n",
       "      <td>0.775</td>\n",
       "      <td>0.719</td>\n",
       "      <td>0.784</td>\n",
       "      <td>0.046</td>\n",
       "      <td>1</td>\n",
       "    </tr>\n",
       "    <tr>\n",
       "      <th>18</th>\n",
       "      <td>0.718</td>\n",
       "      <td>0.180</td>\n",
       "      <td>0.066</td>\n",
       "      <td>0.020</td>\n",
       "      <td>3</td>\n",
       "      <td>sqrt</td>\n",
       "      <td>50</td>\n",
       "      <td>{'max_depth': 3, 'max_features': 'sqrt', 'n_es...</td>\n",
       "      <td>0.862</td>\n",
       "      <td>0.775</td>\n",
       "      <td>0.788</td>\n",
       "      <td>0.775</td>\n",
       "      <td>0.719</td>\n",
       "      <td>0.784</td>\n",
       "      <td>0.046</td>\n",
       "      <td>1</td>\n",
       "    </tr>\n",
       "    <tr>\n",
       "      <th>20</th>\n",
       "      <td>0.178</td>\n",
       "      <td>0.075</td>\n",
       "      <td>0.032</td>\n",
       "      <td>0.008</td>\n",
       "      <td>3</td>\n",
       "      <td>log2</td>\n",
       "      <td>10</td>\n",
       "      <td>{'max_depth': 3, 'max_features': 'log2', 'n_es...</td>\n",
       "      <td>0.862</td>\n",
       "      <td>0.769</td>\n",
       "      <td>0.788</td>\n",
       "      <td>0.775</td>\n",
       "      <td>0.719</td>\n",
       "      <td>0.782</td>\n",
       "      <td>0.046</td>\n",
       "      <td>5</td>\n",
       "    </tr>\n",
       "  </tbody>\n",
       "</table>\n",
       "</div>"
      ],
      "text/plain": [
       "    mean_fit_time  std_fit_time  mean_score_time  std_score_time  \\\n",
       "17          0.398         0.116            0.056           0.018   \n",
       "22          0.657         0.109            0.053           0.012   \n",
       "21          0.332         0.091            0.042           0.016   \n",
       "18          0.718         0.180            0.066           0.020   \n",
       "20          0.178         0.075            0.032           0.008   \n",
       "\n",
       "   param_max_depth param_max_features param_n_estimators  \\\n",
       "17               3               sqrt                 20   \n",
       "22               3               log2                 50   \n",
       "21               3               log2                 20   \n",
       "18               3               sqrt                 50   \n",
       "20               3               log2                 10   \n",
       "\n",
       "                                               params  split0_test_score  \\\n",
       "17  {'max_depth': 3, 'max_features': 'sqrt', 'n_es...              0.862   \n",
       "22  {'max_depth': 3, 'max_features': 'log2', 'n_es...              0.862   \n",
       "21  {'max_depth': 3, 'max_features': 'log2', 'n_es...              0.862   \n",
       "18  {'max_depth': 3, 'max_features': 'sqrt', 'n_es...              0.862   \n",
       "20  {'max_depth': 3, 'max_features': 'log2', 'n_es...              0.862   \n",
       "\n",
       "    split1_test_score  split2_test_score  split3_test_score  \\\n",
       "17              0.775              0.788              0.775   \n",
       "22              0.775              0.788              0.775   \n",
       "21              0.775              0.788              0.775   \n",
       "18              0.775              0.788              0.775   \n",
       "20              0.769              0.788              0.775   \n",
       "\n",
       "    split4_test_score  mean_test_score  std_test_score  rank_test_score  \n",
       "17              0.719            0.784           0.046                1  \n",
       "22              0.719            0.784           0.046                1  \n",
       "21              0.719            0.784           0.046                1  \n",
       "18              0.719            0.784           0.046                1  \n",
       "20              0.719            0.782           0.046                5  "
      ]
     },
     "execution_count": 49,
     "metadata": {},
     "output_type": "execute_result"
    }
   ],
   "source": [
    "tuning_results = pd.DataFrame(models[best_index].cv_results_).sort_values('rank_test_score')\n",
    "\n",
    "round(tuning_results, 3).head(5)"
   ]
  },
  {
   "cell_type": "code",
   "execution_count": 50,
   "metadata": {},
   "outputs": [
    {
     "data": {
      "text/plain": [
       "36"
      ]
     },
     "execution_count": 50,
     "metadata": {},
     "output_type": "execute_result"
    }
   ],
   "source": [
    "len(tuning_results)"
   ]
  },
  {
   "cell_type": "code",
   "execution_count": 51,
   "metadata": {},
   "outputs": [
    {
     "data": {
      "text/plain": [
       "<sklearn.metrics._plot.confusion_matrix.ConfusionMatrixDisplay at 0x200cfcded60>"
      ]
     },
     "execution_count": 51,
     "metadata": {},
     "output_type": "execute_result"
    },
    {
     "data": {
      "image/png": "[encoded data removed]",
      "text/plain": [
       "<Figure size 504x432 with 2 Axes>"
      ]
     },
     "metadata": {},
     "output_type": "display_data"
    }
   ],
   "source": [
    "plot_confusion_matrix(models[best_index], \n",
    "                      X_test, \n",
    "                      y_test,\n",
    "                      cmap = plt.cm.Blues,\n",
    "                      values_format = 'd')"
   ]
  },
  {
   "cell_type": "code",
   "execution_count": 52,
   "metadata": {},
   "outputs": [
    {
     "data": {
      "text/plain": [
       "<matplotlib.axes._subplots.AxesSubplot at 0x200d18cc310>"
      ]
     },
     "execution_count": 52,
     "metadata": {},
     "output_type": "execute_result"
    },
    {
     "data": {
      "image/png": "[encoded data removed]",
      "text/plain": [
       "<Figure size 504x432 with 1 Axes>"
      ]
     },
     "metadata": {},
     "output_type": "display_data"
    }
   ],
   "source": [
    "# for models with feature importances\n",
    "if hasattr(models[best_index].best_estimator_, 'feature_importances_'):\n",
    "    var_imp = pd.DataFrame({\n",
    "        'feature': X_test.columns, \n",
    "        'importance': models[best_index].best_estimator_.feature_importances_}).sort_values('importance', ascending = False)\n",
    "# for models with coefficients (directional)\n",
    "elif hasattr(models[best_index].best_estimator_, 'coef_'):\n",
    "    var_imp = pd.DataFrame({\n",
    "        'feature': X_test.columns, \n",
    "        'importance_abs': abs(models[best_index].best_estimator_.coef_[0]), \n",
    "        'importance': models[best_index].best_estimator_.coef_[0]}).sort_values('importance_abs', ascending = False)\n",
    "    \n",
    "sns.barplot(y = 'feature', \n",
    "            x = 'importance', \n",
    "            data = var_imp.head(10))"
   ]
  }
 ],
 "metadata": {
  "kernelspec": {
   "display_name": "Python 3",
   "language": "python",
   "name": "python3"
  },
  "language_info": {
   "codemirror_mode": {
    "name": "ipython",
    "version": 3
   },
   "file_extension": ".py",
   "mimetype": "text/x-python",
   "name": "python",
   "nbconvert_exporter": "python",
   "pygments_lexer": "ipython3",
   "version": "3.8.3"
  }
 },
 "nbformat": 4,
 "nbformat_minor": 4
}
